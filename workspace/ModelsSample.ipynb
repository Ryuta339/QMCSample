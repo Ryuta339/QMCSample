{
 "cells": [
  {
   "cell_type": "code",
   "execution_count": 1,
   "id": "395626d9-b8cb-407b-803e-d4f69e03110b",
   "metadata": {
    "tags": []
   },
   "outputs": [],
   "source": [
    "from models import Ferro, SK, Hopfield\n",
    "import numpy as np\n",
    "import openjij.cxxjij.system as S\n",
    "import openjij.cxxjij.utility as U\n",
    "import openjij.cxxjij.algorithm as A\n",
    "%matplotlib inline\n",
    "import matplotlib.pyplot as plt"
   ]
  },
  {
   "cell_type": "markdown",
   "id": "f52d0069-13b1-4c1d-b430-b10b78a24ec9",
   "metadata": {},
   "source": [
    "# 強磁性モデル"
   ]
  },
  {
   "cell_type": "code",
   "execution_count": 15,
   "id": "64abe679-932e-4372-8abe-9e68e7c57185",
   "metadata": {
    "tags": []
   },
   "outputs": [],
   "source": [
    "N = 512\n",
    "T_LIM = 30\n",
    "S_LIM = 21\n",
    "N_SMPL = 20000\n",
    "ferro = Ferro(N, 1/N)"
   ]
  },
  {
   "cell_type": "code",
   "execution_count": 17,
   "id": "5e59ecc7-aca3-4da7-a640-8f5932194177",
   "metadata": {
    "tags": []
   },
   "outputs": [],
   "source": [
    "ferro_system = S.make_transverse_ising(ferro.gen_spin(), ferro, 1.0, 4)\n",
    "\n",
    "temp_list = np.linspace(0.01, 2, T_LIM)\n",
    "s_list = np.linspace(0, 1, S_LIM)\n",
    "\n",
    "mm = np.zeros((S_LIM, T_LIM))\n",
    "\n",
    "# 磁化とその分散を計算\n",
    "for i, temp in enumerate(temp_list):\n",
    "    schedule_list = U.make_transverse_field_schedule_list(1/temp, N_SMPL, S_LIM)\n",
    "    \n",
    "    mag, mag_std, spins = [], [], []\n",
    "    idx = 0\n",
    "    def callback_log(system, t):\n",
    "        global mag, mag_std, spins, idx\n",
    "        if idx % 200 == 199:\n",
    "            spins.append([-1 if np.mean(s)<0 else 1 for s in system.trotter_spins[:-1]])\n",
    "        if idx % N_SMPL == (N_SMPL-1):\n",
    "            mag_list = [np.abs(np.mean(state)) for state in spins]\n",
    "            mag_std.append(np.std(mag_list))\n",
    "            mag.append(np.mean(mag_list))\n",
    "            spins = []\n",
    "        idx = idx + 1\n",
    "    \n",
    "    A.Algorithm_SingleSpinFlip_run(ferro_system, schedule_list, callback_log)\n",
    "    mm[:, i] = mag"
   ]
  },
  {
   "cell_type": "code",
   "execution_count": null,
   "id": "2c6dea18-fe45-4eeb-b341-51ae74fbe139",
   "metadata": {
    "tags": []
   },
   "outputs": [
    {
     "data": {
      "text/plain": [
       "<matplotlib.colorbar.Colorbar at 0xffff6de086d0>"
      ]
     },
     "execution_count": 18,
     "metadata": {},
     "output_type": "execute_result"
    },
    {
     "data": {
      "image/png": "[encoded data removed]",
      "text/plain": [
       "<Figure size 640x480 with 2 Axes>"
      ]
     },
     "metadata": {},
     "output_type": "display_data"
    }
   ],
   "source": [
    "TT, SS = np.meshgrid(temp_list, s_list)\n",
    "c = plt.contourf(TT, SS, mm)\n",
    "plt.colorbar(c)"
   ]
  },
  {
   "cell_type": "code",
   "execution_count": null,
   "id": "551d80df-1126-4c30-8623-d9092ddccff7",
   "metadata": {},
   "outputs": [],
   "source": []
  }
 ],
 "metadata": {
  "kernelspec": {
   "display_name": "Python 3 (ipykernel)",
   "language": "python",
   "name": "python3"
  },
  "language_info": {
   "codemirror_mode": {
    "name": "ipython",
    "version": 3
   },
   "file_extension": ".py",
   "mimetype": "text/x-python",
   "name": "python",
   "nbconvert_exporter": "python",
   "pygments_lexer": "ipython3",
   "version": "3.10.9"
  }
 },
 "nbformat": 4,
 "nbformat_minor": 5
}
